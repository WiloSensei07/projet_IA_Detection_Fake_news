{
 "cells": [
  {
   "cell_type": "markdown",
   "metadata": {},
   "source": [
    "# Déploiement de l'Application avec Flask pour des Prédictions Probabilistes"
   ]
  },
  {
   "cell_type": "code",
   "execution_count": null,
   "metadata": {},
   "outputs": [],
   "source": [
    "from flask import Flask, request, render_template, jsonify\n",
    "import joblib\n",
    "import numpy as np\n",
    "import pandas as pd\n",
    "from sklearn.preprocessing import LabelEncoder\n",
    "\n",
    "app = Flask(__name__)\n",
    "\n",
    "# Charger le modèle et les encoders\n",
    "model = joblib.load('model/best_model.pkl')\n",
    "label_encoders = joblib.load('model/label_encoders.pkl')"
   ]
  },
  {
   "cell_type": "code",
   "execution_count": null,
   "metadata": {},
   "outputs": [],
   "source": [
    "# Colonnes d'intérêt\n",
    "columns_of_interest = [\n",
    "    'league', 'season', 'team_name', 'team_country', 'player_name', 'player_age',\n",
    "    'counter_team_name', 'counter_team_country', 'transfer_fee_amnt', 'market_val_amnt', 'is_free', 'is_retired'\n",
    "]\n",
    "\n",
    "# Fonction de comparaison des entrées utilisateur\n",
    "def compare_user_input(user_input, data, model, label_encoders):\n",
    "    # Encode the user input\n",
    "    user_input_encoded = {}\n",
    "    for column in columns_of_interest:\n",
    "        if column in label_encoders:\n",
    "            if user_input.get(column, '') not in label_encoders[column].classes_:\n",
    "                label_encoders[column].classes_ = np.append(label_encoders[column].classes_, user_input.get(column, ''))\n",
    "            user_input_encoded[column] = label_encoders[column].transform([user_input.get(column, '')])[0]\n",
    "        else:\n",
    "            user_input_encoded[column] = user_input.get(column, 0)\n",
    "\n",
    "    user_input_array = np.array([user_input_encoded.get(col, 0) for col in columns_of_interest])\n",
    "\n",
    "    # Create pairs with examples from the dataset\n",
    "    pairs = []\n",
    "    for i in range(len(data)):\n",
    "        data_row = data.iloc[i].values\n",
    "        pairs.append(np.concatenate((user_input_array, data_row)))\n",
    "\n",
    "    pairs = np.array(pairs)\n",
    "\n",
    "    # Predict similarity probabilities\n",
    "    probabilities = model.predict_proba(pairs)[:, 1]  # Probability of being similar (label 1)\n",
    "\n",
    "    # Calculate the overall truth percentage\n",
    "    max_probability = np.max(probabilities)\n",
    "    truth_percentage = max_probability * 100  # Convert to percentage\n",
    "\n",
    "    # Identify likely false fields\n",
    "    likely_false_fields = []\n",
    "    for column in columns_of_interest:\n",
    "        modified_input = user_input_array.copy()\n",
    "        original_value = modified_input[columns_of_interest.index(column)]\n",
    "        for i in range(len(data)):\n",
    "            data_row = data.iloc[i].values\n",
    "            # Change the value of the column to match the dataset and see if probability increases\n",
    "            modified_input[columns_of_interest.index(column)] = data_row[columns_of_interest.index(column)]\n",
    "            modified_pairs = [np.concatenate((modified_input, data_row))]\n",
    "            modified_probability = model.predict_proba(modified_pairs)[:, 1]\n",
    "            if np.max(modified_probability) > max_probability:\n",
    "                likely_false_fields.append(column)\n",
    "                break\n",
    "            modified_input[columns_of_interest.index(column)] = original_value  # Reset to original value\n",
    "\n",
    "    return truth_percentage, likely_false_fields"
   ]
  },
  {
   "cell_type": "code",
   "execution_count": null,
   "metadata": {},
   "outputs": [],
   "source": [
    "@app.route('/')\n",
    "def index():\n",
    "    return render_template('index.html')\n",
    "\n",
    "@app.route('/predict', methods=['POST'])\n",
    "def predict():\n",
    "    user_input = request.json\n",
    "    # Example reduced data for demonstration, replace with actual data for production\n",
    "    data = pd.read_csv('transfers.csv').sample(n=1000, random_state=42)\n",
    "    truth_percentage, likely_false_fields = compare_user_input(user_input, data, model, label_encoders)\n",
    "    return jsonify({\n",
    "        'truth_percentage': truth_percentage,\n",
    "        'likely_false_fields': likely_false_fields\n",
    "    })\n",
    "\n",
    "if __name__ == '__main__':\n",
    "    app.run(debug=True)"
   ]
  }
 ],
 "metadata": {
  "kernelspec": {
   "display_name": ".venv",
   "language": "python",
   "name": "python3"
  },
  "language_info": {
   "codemirror_mode": {
    "name": "ipython",
    "version": 3
   },
   "file_extension": ".py",
   "mimetype": "text/x-python",
   "name": "python",
   "nbconvert_exporter": "python",
   "pygments_lexer": "ipython3",
   "version": "3.12.4"
  }
 },
 "nbformat": 4,
 "nbformat_minor": 2
}
